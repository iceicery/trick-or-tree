{
 "cells": [
  {
   "cell_type": "code",
   "execution_count": 1,
   "id": "ab90cfb8-2d18-4221-93cb-119b21a8e2b6",
   "metadata": {},
   "outputs": [],
   "source": [
    "import geopandas as gpd\n",
    "import pandas as pd"
   ]
  },
  {
   "cell_type": "code",
   "execution_count": 2,
   "id": "a8353731-01a8-4a7c-83fe-aa827deb21f6",
   "metadata": {},
   "outputs": [],
   "source": [
    "df = pd.read_csv('alchamptree_with_leafimg.csv')"
   ]
  },
  {
   "cell_type": "code",
   "execution_count": 5,
   "id": "593f5c7a-7dd9-4c60-8b7f-9be708a0c0ab",
   "metadata": {},
   "outputs": [
    {
     "data": {
      "text/plain": [
       "0     423.0\n",
       "1     131.0\n",
       "2     238.0\n",
       "3     223.0\n",
       "4     222.0\n",
       "      ...  \n",
       "67    258.0\n",
       "68    210.0\n",
       "69    115.0\n",
       "70    248.0\n",
       "71    192.0\n",
       "Name: total_points, Length: 72, dtype: float64"
      ]
     },
     "execution_count": 5,
     "metadata": {},
     "output_type": "execute_result"
    }
   ],
   "source": [
    "df['total_points']"
   ]
  },
  {
   "cell_type": "code",
   "execution_count": 6,
   "id": "682380e2-c47f-48c9-9821-e44e0c4f4c2e",
   "metadata": {},
   "outputs": [],
   "source": [
    "gdf = gpd.read_file('al_champTree_leafimg_wiki.geojson')"
   ]
  },
  {
   "cell_type": "code",
   "execution_count": 9,
   "id": "79866b56-d859-488f-831c-acdaeabefd7e",
   "metadata": {},
   "outputs": [
    {
     "data": {
      "text/plain": [
       "479.0"
      ]
     },
     "execution_count": 9,
     "metadata": {},
     "output_type": "execute_result"
    }
   ],
   "source": []
  },
  {
   "cell_type": "code",
   "execution_count": 10,
   "id": "24923f82-63f7-446b-bb7f-00c0d26a6f12",
   "metadata": {},
   "outputs": [
    {
     "data": {
      "text/html": [
       "<div>\n",
       "<style scoped>\n",
       "    .dataframe tbody tr th:only-of-type {\n",
       "        vertical-align: middle;\n",
       "    }\n",
       "\n",
       "    .dataframe tbody tr th {\n",
       "        vertical-align: top;\n",
       "    }\n",
       "\n",
       "    .dataframe thead th {\n",
       "        text-align: right;\n",
       "    }\n",
       "</style>\n",
       "<table border=\"1\" class=\"dataframe\">\n",
       "  <thead>\n",
       "    <tr style=\"text-align: right;\">\n",
       "      <th></th>\n",
       "      <th>species_x</th>\n",
       "      <th>subspecies</th>\n",
       "      <th>scientific_name</th>\n",
       "      <th>year_named</th>\n",
       "      <th>circumference_in</th>\n",
       "      <th>height_in</th>\n",
       "      <th>spread_ft</th>\n",
       "      <th>total_points</th>\n",
       "      <th>county</th>\n",
       "      <th>year_remeasured</th>\n",
       "      <th>...</th>\n",
       "      <th>sci_lc</th>\n",
       "      <th>file_id</th>\n",
       "      <th>image_path</th>\n",
       "      <th>segmented_path</th>\n",
       "      <th>species_y</th>\n",
       "      <th>source</th>\n",
       "      <th>wiki_summary</th>\n",
       "      <th>Longitude</th>\n",
       "      <th>Latitude</th>\n",
       "      <th>geometry</th>\n",
       "    </tr>\n",
       "  </thead>\n",
       "  <tbody>\n",
       "    <tr>\n",
       "      <th>52</th>\n",
       "      <td>OAK</td>\n",
       "      <td>Live</td>\n",
       "      <td>Quercus virginiana</td>\n",
       "      <td>2013.0</td>\n",
       "      <td>363.0</td>\n",
       "      <td>82.0</td>\n",
       "      <td>136.0</td>\n",
       "      <td>479.0</td>\n",
       "      <td>Mobile</td>\n",
       "      <td>2018</td>\n",
       "      <td>...</td>\n",
       "      <td>quercus virginiana</td>\n",
       "      <td>72681.0</td>\n",
       "      <td>dataset/images/lab/quercus_virginiana/wb1373-0...</td>\n",
       "      <td>dataset/segmented/lab/quercus_virginiana/wb137...</td>\n",
       "      <td>Quercus virginiana</td>\n",
       "      <td>lab</td>\n",
       "      <td>Quercus virginiana, also known as the southern...</td>\n",
       "      <td>-88.196568</td>\n",
       "      <td>30.684573</td>\n",
       "      <td>POINT (-88.19657 30.68457)</td>\n",
       "    </tr>\n",
       "  </tbody>\n",
       "</table>\n",
       "<p>1 rows × 22 columns</p>\n",
       "</div>"
      ],
      "text/plain": [
       "   species_x subspecies     scientific_name  year_named  circumference_in  \\\n",
       "52       OAK       Live  Quercus virginiana      2013.0             363.0   \n",
       "\n",
       "    height_in  spread_ft  total_points  county  year_remeasured  ...  \\\n",
       "52       82.0      136.0         479.0  Mobile             2018  ...   \n",
       "\n",
       "                sci_lc  file_id  \\\n",
       "52  quercus virginiana  72681.0   \n",
       "\n",
       "                                           image_path  \\\n",
       "52  dataset/images/lab/quercus_virginiana/wb1373-0...   \n",
       "\n",
       "                                       segmented_path           species_y  \\\n",
       "52  dataset/segmented/lab/quercus_virginiana/wb137...  Quercus virginiana   \n",
       "\n",
       "   source                                       wiki_summary  Longitude  \\\n",
       "52    lab  Quercus virginiana, also known as the southern... -88.196568   \n",
       "\n",
       "     Latitude                    geometry  \n",
       "52  30.684573  POINT (-88.19657 30.68457)  \n",
       "\n",
       "[1 rows x 22 columns]"
      ]
     },
     "execution_count": 10,
     "metadata": {},
     "output_type": "execute_result"
    }
   ],
   "source": [
    "gdf[gdf.total_points == gdf['total_points'].max()]"
   ]
  },
  {
   "cell_type": "code",
   "execution_count": null,
   "id": "a43f5661-2a7d-442e-ac59-65539f88af58",
   "metadata": {},
   "outputs": [],
   "source": []
  }
 ],
 "metadata": {
  "kernelspec": {
   "display_name": "Python 3",
   "language": "python",
   "name": "python3"
  },
  "language_info": {
   "codemirror_mode": {
    "name": "ipython",
    "version": 3
   },
   "file_extension": ".py",
   "mimetype": "text/x-python",
   "name": "python",
   "nbconvert_exporter": "python",
   "pygments_lexer": "ipython3",
   "version": "3.8.5"
  }
 },
 "nbformat": 4,
 "nbformat_minor": 5
}
