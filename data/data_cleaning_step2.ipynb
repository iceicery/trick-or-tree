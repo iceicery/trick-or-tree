{
 "cells": [
  {
   "cell_type": "code",
   "execution_count": 17,
   "id": "ea977c8b",
   "metadata": {},
   "outputs": [],
   "source": [
    "import geopandas as gpd\n",
    "import pandas as pd\n",
    "import numpy as np"
   ]
  },
  {
   "cell_type": "code",
   "execution_count": 18,
   "id": "4b3cbb23",
   "metadata": {},
   "outputs": [],
   "source": [
    "gdf = gpd.read_file('al_champTree_leafimg_wiki.geojson')\n"
   ]
  },
  {
   "cell_type": "code",
   "execution_count": 17,
   "id": "5d26a259",
   "metadata": {},
   "outputs": [
    {
     "data": {
      "text/html": [
       "<div>\n",
       "<style scoped>\n",
       "    .dataframe tbody tr th:only-of-type {\n",
       "        vertical-align: middle;\n",
       "    }\n",
       "\n",
       "    .dataframe tbody tr th {\n",
       "        vertical-align: top;\n",
       "    }\n",
       "\n",
       "    .dataframe thead th {\n",
       "        text-align: right;\n",
       "    }\n",
       "</style>\n",
       "<table border=\"1\" class=\"dataframe\">\n",
       "  <thead>\n",
       "    <tr style=\"text-align: right;\">\n",
       "      <th></th>\n",
       "      <th>species_x</th>\n",
       "      <th>subspecies</th>\n",
       "      <th>scientific_name</th>\n",
       "      <th>year_named</th>\n",
       "      <th>circumference_in</th>\n",
       "      <th>height_in</th>\n",
       "      <th>spread_ft</th>\n",
       "      <th>total_points</th>\n",
       "      <th>county</th>\n",
       "      <th>year_remeasured</th>\n",
       "      <th>...</th>\n",
       "      <th>sci_lc</th>\n",
       "      <th>file_id</th>\n",
       "      <th>image_path</th>\n",
       "      <th>segmented_path</th>\n",
       "      <th>species_y</th>\n",
       "      <th>source</th>\n",
       "      <th>wiki_summary</th>\n",
       "      <th>Longitude</th>\n",
       "      <th>Latitude</th>\n",
       "      <th>geometry</th>\n",
       "    </tr>\n",
       "  </thead>\n",
       "  <tbody>\n",
       "    <tr>\n",
       "      <th>110</th>\n",
       "      <td>CEDAR</td>\n",
       "      <td>Atlantic White</td>\n",
       "      <td>Chamaecyparis thyoides</td>\n",
       "      <td>2020.0</td>\n",
       "      <td>103.0</td>\n",
       "      <td>81.0</td>\n",
       "      <td>32.0</td>\n",
       "      <td>192.0</td>\n",
       "      <td>Baldwin</td>\n",
       "      <td>2025</td>\n",
       "      <td>...</td>\n",
       "      <td>chameacyparis thyoides</td>\n",
       "      <td>NaN</td>\n",
       "      <td>None</td>\n",
       "      <td>None</td>\n",
       "      <td>None</td>\n",
       "      <td>None</td>\n",
       "      <td>Chamaecyparis thyoides (Atlantic white cedar, ...</td>\n",
       "      <td>-87.746067</td>\n",
       "      <td>30.659218</td>\n",
       "      <td>POINT (-87.74607 30.65922)</td>\n",
       "    </tr>\n",
       "  </tbody>\n",
       "</table>\n",
       "<p>1 rows × 22 columns</p>\n",
       "</div>"
      ],
      "text/plain": [
       "    species_x       subspecies         scientific_name  year_named  \\\n",
       "110     CEDAR   Atlantic White  Chamaecyparis thyoides      2020.0   \n",
       "\n",
       "     circumference_in  height_in  spread_ft  total_points   county  \\\n",
       "110             103.0       81.0       32.0         192.0  Baldwin   \n",
       "\n",
       "     year_remeasured  ...                  sci_lc file_id image_path  \\\n",
       "110             2025  ...  chameacyparis thyoides     NaN       None   \n",
       "\n",
       "     segmented_path species_y source  \\\n",
       "110            None      None   None   \n",
       "\n",
       "                                          wiki_summary  Longitude   Latitude  \\\n",
       "110  Chamaecyparis thyoides (Atlantic white cedar, ... -87.746067  30.659218   \n",
       "\n",
       "                       geometry  \n",
       "110  POINT (-87.74607 30.65922)  \n",
       "\n",
       "[1 rows x 22 columns]"
      ]
     },
     "execution_count": 17,
     "metadata": {},
     "output_type": "execute_result"
    }
   ],
   "source": [
    "gdf[gdf.species_x == 'CEDAR']"
   ]
  },
  {
   "cell_type": "code",
   "execution_count": 16,
   "id": "3ced9ffb",
   "metadata": {},
   "outputs": [
    {
     "name": "stdout",
     "output_type": "stream",
     "text": [
      "Populus deltoides\n",
      "Populus heterophylla\n"
     ]
    }
   ],
   "source": [
    "for i in gdf.scientific_name.values:\n",
    "    if 'opulus' in i:\n",
    "        print(i)"
   ]
  },
  {
   "cell_type": "code",
   "execution_count": 3,
   "id": "3c1278ff",
   "metadata": {},
   "outputs": [],
   "source": [
    "import os"
   ]
  },
  {
   "cell_type": "code",
   "execution_count": 17,
   "id": "c4ede595",
   "metadata": {},
   "outputs": [
    {
     "data": {
      "text/plain": [
       "'dataset/images/lab/liriodendron_tulipifera/pi0068-01-1.jpg'"
      ]
     },
     "execution_count": 17,
     "metadata": {},
     "output_type": "execute_result"
    }
   ],
   "source": [
    "gdf.loc[1,'image_path']"
   ]
  },
  {
   "cell_type": "code",
   "execution_count": null,
   "id": "ff8e1220",
   "metadata": {},
   "outputs": [],
   "source": [
    "pw"
   ]
  },
  {
   "cell_type": "code",
   "execution_count": 15,
   "id": "403e7e0e",
   "metadata": {},
   "outputs": [],
   "source": [
    "rpath = '/home/ctchen/work_scripts/sideprojects/HATCH2021/'\n",
    "for i in range(len(gdf)):\n",
    "    if gdf.loc[i,'image_path'] is not None:\n",
    "        os.system('cp ' + rpath + gdf.loc[i,'image_path'] + ' ' + rpath + '/trick-or-tree/' + gdf.loc[i,'image_path'])"
   ]
  },
  {
   "cell_type": "code",
   "execution_count": 16,
   "id": "e5fd30b7",
   "metadata": {},
   "outputs": [],
   "source": [
    "rpath = '/home/ctchen/work_scripts/sideprojects/HATCH2021/'\n",
    "for i in range(len(gdf)):\n",
    "    if gdf.loc[i,'segmented_path'] is not None:\n",
    "        os.system('cp ' + rpath + gdf.loc[i,'segmented_path'] + ' ' + rpath + '/trick-or-tree/' + gdf.loc[i,'segmented_path'])"
   ]
  },
  {
   "cell_type": "code",
   "execution_count": 4,
   "id": "2952db7c",
   "metadata": {},
   "outputs": [],
   "source": [
    "newgdf = gdf.copy()"
   ]
  },
  {
   "cell_type": "code",
   "execution_count": 5,
   "id": "aa5902ec",
   "metadata": {},
   "outputs": [],
   "source": [
    "for i in range(len(gdf)):\n",
    "    if gdf.loc[i,'image_path'] is not None:\n",
    "        oldimg = gdf.loc[i,'image_path']\n",
    "        newgdf.loc[i,'image_path'] = 'https://github.com/iceicery/trick-or-tree/blob/main/' + oldimg + '?raw=true'\n"
   ]
  },
  {
   "cell_type": "code",
   "execution_count": 8,
   "id": "9f6be865",
   "metadata": {},
   "outputs": [
    {
     "data": {
      "text/plain": [
       "'https://github.com/iceicery/trick-or-tree/blob/main/dataset/images/lab/juglans_cinerea/wb1487-01-1.jpg?raw=true'"
      ]
     },
     "execution_count": 8,
     "metadata": {},
     "output_type": "execute_result"
    }
   ],
   "source": [
    "newgdf.loc[150,'image_path']"
   ]
  },
  {
   "cell_type": "code",
   "execution_count": 9,
   "id": "3f0a8336",
   "metadata": {},
   "outputs": [],
   "source": [
    "newgdf.to_file('NEWal_champTree_leafimg_wiki.geojson',driver='GeoJSON')"
   ]
  },
  {
   "cell_type": "code",
   "execution_count": null,
   "id": "9e933ac2",
   "metadata": {},
   "outputs": [],
   "source": []
  }
 ],
 "metadata": {
  "kernelspec": {
   "display_name": "Python 3",
   "language": "python",
   "name": "python3"
  },
  "language_info": {
   "codemirror_mode": {
    "name": "ipython",
    "version": 3
   },
   "file_extension": ".py",
   "mimetype": "text/x-python",
   "name": "python",
   "nbconvert_exporter": "python",
   "pygments_lexer": "ipython3",
   "version": "3.9.4"
  }
 },
 "nbformat": 4,
 "nbformat_minor": 5
}
